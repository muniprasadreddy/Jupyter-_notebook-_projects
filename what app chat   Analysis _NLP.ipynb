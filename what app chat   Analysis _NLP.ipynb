{
 "cells": [
  {
   "cell_type": "code",
   "execution_count": 28,
   "id": "0d160457",
   "metadata": {},
   "outputs": [],
   "source": [
    "import re\n",
    "import pandas as pd"
   ]
  },
  {
   "cell_type": "code",
   "execution_count": 29,
   "id": "8c1dcc13",
   "metadata": {},
   "outputs": [],
   "source": [
    "f=open('what_app data.txt','r',encoding='utf-8')\n"
   ]
  },
  {
   "cell_type": "code",
   "execution_count": 30,
   "id": "85585b3d",
   "metadata": {},
   "outputs": [],
   "source": [
    "data=f.read()"
   ]
  },
  {
   "cell_type": "code",
   "execution_count": 31,
   "id": "06c8e29b",
   "metadata": {},
   "outputs": [
    {
     "name": "stderr",
     "output_type": "stream",
     "text": [
      "IOPub data rate exceeded.\n",
      "The notebook server will temporarily stop sending output\n",
      "to the client in order to avoid crashing it.\n",
      "To change this limit, set the config variable\n",
      "`--NotebookApp.iopub_data_rate_limit`.\n",
      "\n",
      "Current values:\n",
      "NotebookApp.iopub_data_rate_limit=1000000.0 (bytes/sec)\n",
      "NotebookApp.rate_limit_window=3.0 (secs)\n",
      "\n"
     ]
    }
   ],
   "source": [
    "print(data)"
   ]
  },
  {
   "cell_type": "code",
   "execution_count": 32,
   "id": "ed2bec50",
   "metadata": {},
   "outputs": [
    {
     "name": "stdout",
     "output_type": "stream",
     "text": [
      "<class 'str'>\n"
     ]
    }
   ],
   "source": [
    "print(type(data))"
   ]
  },
  {
   "cell_type": "code",
   "execution_count": 33,
   "id": "e252c186",
   "metadata": {},
   "outputs": [],
   "source": [
    "pattern='\\d{1,2}/\\d{1,2}/\\d{1,2},\\s\\d{1,2}:\\d{2}\\s-\\s'"
   ]
  },
  {
   "cell_type": "code",
   "execution_count": 34,
   "id": "9545900e",
   "metadata": {},
   "outputs": [
    {
     "data": {
      "text/plain": [
       "213"
      ]
     },
     "execution_count": 34,
     "metadata": {},
     "output_type": "execute_result"
    }
   ],
   "source": [
    "messages=re.split(pattern,data)[1:]\n",
    "len(messages)"
   ]
  },
  {
   "cell_type": "code",
   "execution_count": 35,
   "id": "29245102",
   "metadata": {},
   "outputs": [
    {
     "data": {
      "text/plain": [
       "['18/10/23, 18:30 - ',\n",
       " '23/10/23, 12:03 - ',\n",
       " '23/10/23, 12:03 - ',\n",
       " '23/10/23, 12:03 - ',\n",
       " '23/10/23, 12:04 - ',\n",
       " '23/10/23, 12:07 - ',\n",
       " '23/10/23, 12:07 - ',\n",
       " '23/10/23, 12:08 - ',\n",
       " '23/10/23, 12:09 - ',\n",
       " '23/10/23, 12:09 - ',\n",
       " '25/10/23, 16:07 - ',\n",
       " '25/10/23, 16:08 - ',\n",
       " '25/10/23, 16:09 - ',\n",
       " '25/10/23, 16:09 - ',\n",
       " '25/10/23, 16:09 - ',\n",
       " '25/10/23, 16:09 - ',\n",
       " '25/10/23, 16:20 - ',\n",
       " '25/10/23, 16:20 - ',\n",
       " '25/10/23, 16:20 - ',\n",
       " '25/10/23, 16:20 - ',\n",
       " '25/10/23, 16:21 - ',\n",
       " '25/10/23, 16:21 - ',\n",
       " '25/10/23, 16:22 - ',\n",
       " '25/10/23, 16:53 - ',\n",
       " '25/10/23, 21:36 - ',\n",
       " '26/10/23, 12:01 - ',\n",
       " '16/11/23, 14:35 - ',\n",
       " '16/11/23, 14:35 - ',\n",
       " '16/11/23, 14:35 - ',\n",
       " '16/11/23, 14:36 - ',\n",
       " '16/11/23, 14:36 - ',\n",
       " '16/11/23, 19:31 - ',\n",
       " '18/11/23, 07:09 - ',\n",
       " '18/11/23, 07:14 - ',\n",
       " '20/11/23, 18:44 - ',\n",
       " '23/11/23, 12:45 - ',\n",
       " '23/11/23, 12:45 - ',\n",
       " '28/11/23, 15:23 - ',\n",
       " '28/11/23, 15:25 - ',\n",
       " '28/11/23, 17:59 - ',\n",
       " '04/12/23, 11:21 - ',\n",
       " '04/12/23, 11:27 - ',\n",
       " '04/12/23, 11:28 - ',\n",
       " '26/11/23, 13:20 - ',\n",
       " '26/11/23, 10:56 - ',\n",
       " '19/09/23, 12:56 - ',\n",
       " '13/09/23, 00:18 - ',\n",
       " '13/09/23, 00:18 - ',\n",
       " '13/09/23, 00:32 - ',\n",
       " '13/09/23, 00:32 - ',\n",
       " '13/09/23, 06:59 - ',\n",
       " '13/09/23, 07:25 - ',\n",
       " '13/09/23, 07:25 - ',\n",
       " '13/09/23, 07:26 - ',\n",
       " '13/09/23, 08:02 - ',\n",
       " '13/09/23, 11:13 - ',\n",
       " '13/09/23, 18:57 - ',\n",
       " '13/09/23, 18:57 - ',\n",
       " '14/09/23, 14:26 - ',\n",
       " '14/09/23, 15:31 - ',\n",
       " '14/09/23, 15:31 - ',\n",
       " '14/09/23, 15:40 - ',\n",
       " '14/09/23, 15:40 - ',\n",
       " '13/09/23, 07:21 - ',\n",
       " '14/09/23, 15:42 - ',\n",
       " '13/09/23, 07:21 - ',\n",
       " '14/09/23, 15:42 - ',\n",
       " '13/09/23, 07:26 - ',\n",
       " '15/09/23, 07:57 - ',\n",
       " '13/09/23, 07:26 - ',\n",
       " '15/09/23, 08:01 - ',\n",
       " '14/09/23, 15:27 - ',\n",
       " '15/09/23, 08:01 - ',\n",
       " '14/09/23, 15:39 - ',\n",
       " '14/09/23, 15:39 - ',\n",
       " '14/09/23, 15:39 - ',\n",
       " '15/09/23, 08:17 - ',\n",
       " '14/09/23, 15:41 - ',\n",
       " '15/09/23, 08:17 - ',\n",
       " '14/09/23, 15:43 - ',\n",
       " '15/09/23, 07:58 - ',\n",
       " '15/09/23, 08:19 - ',\n",
       " '15/09/23, 08:17 - ',\n",
       " '15/09/23, 08:20 - ',\n",
       " '15/09/23, 08:19 - ',\n",
       " '15/09/23, 08:20 - ',\n",
       " '15/09/23, 14:51 - ',\n",
       " '15/09/23, 11:06 - ',\n",
       " '15/09/23, 14:51 - ',\n",
       " '15/09/23, 11:06 - ',\n",
       " '15/09/23, 14:51 - ',\n",
       " '15/09/23, 11:06 - ',\n",
       " '15/09/23, 14:52 - ',\n",
       " '15/09/23, 14:54 - ',\n",
       " '15/09/23, 14:54 - ',\n",
       " '15/09/23, 14:56 - ',\n",
       " '15/09/23, 18:44 - ',\n",
       " '15/09/23, 21:09 - ',\n",
       " '15/09/23, 21:09 - ',\n",
       " '15/09/23, 21:10 - ',\n",
       " '15/09/23, 21:13 - ',\n",
       " '15/09/23, 21:13 - ',\n",
       " '15/09/23, 21:14 - ',\n",
       " '15/09/23, 21:14 - ',\n",
       " '15/09/23, 21:14 - ',\n",
       " '15/09/23, 21:14 - ',\n",
       " '15/09/23, 21:14 - ',\n",
       " '15/09/23, 21:15 - ',\n",
       " '15/09/23, 21:15 - ',\n",
       " '15/09/23, 21:15 - ',\n",
       " '15/09/23, 21:15 - ',\n",
       " '15/09/23, 21:16 - ',\n",
       " '15/09/23, 21:15 - ',\n",
       " '15/09/23, 21:15 - ',\n",
       " '15/09/23, 21:16 - ',\n",
       " '15/09/23, 21:16 - ',\n",
       " '15/09/23, 21:16 - ',\n",
       " '15/09/23, 21:16 - ',\n",
       " '15/09/23, 21:17 - ',\n",
       " '15/09/23, 21:17 - ',\n",
       " '15/09/23, 21:17 - ',\n",
       " '15/09/23, 21:17 - ',\n",
       " '15/09/23, 21:17 - ',\n",
       " '15/09/23, 21:18 - ',\n",
       " '15/09/23, 21:18 - ',\n",
       " '15/09/23, 21:19 - ',\n",
       " '15/09/23, 21:19 - ',\n",
       " '15/09/23, 21:19 - ',\n",
       " '15/09/23, 21:19 - ',\n",
       " '15/09/23, 21:19 - ',\n",
       " '15/09/23, 21:19 - ',\n",
       " '15/09/23, 21:20 - ',\n",
       " '15/09/23, 21:20 - ',\n",
       " '15/09/23, 21:20 - ',\n",
       " '15/09/23, 21:20 - ',\n",
       " '15/09/23, 21:20 - ',\n",
       " '15/09/23, 21:24 - ',\n",
       " '16/09/23, 06:20 - ',\n",
       " '15/09/23, 21:58 - ',\n",
       " '15/09/23, 22:05 - ',\n",
       " '16/09/23, 06:21 - ',\n",
       " '16/09/23, 08:44 - ',\n",
       " '16/09/23, 10:28 - ',\n",
       " '16/09/23, 21:03 - ',\n",
       " '19/09/23, 21:13 - ',\n",
       " '19/09/23, 21:13 - ',\n",
       " '19/09/23, 21:13 - ',\n",
       " '19/09/23, 21:14 - ',\n",
       " '19/09/23, 22:29 - ',\n",
       " '19/09/23, 22:29 - ',\n",
       " '25/09/23, 20:38 - ',\n",
       " '26/09/23, 22:09 - ',\n",
       " '27/09/23, 20:52 - ',\n",
       " '27/09/23, 20:53 - ',\n",
       " '30/09/23, 17:58 - ',\n",
       " '30/09/23, 17:58 - ',\n",
       " '30/09/23, 17:58 - ',\n",
       " '04/10/23, 22:39 - ',\n",
       " '04/10/23, 22:57 - ',\n",
       " '07/10/23, 14:17 - ',\n",
       " '07/10/23, 14:18 - ',\n",
       " '07/10/23, 14:18 - ',\n",
       " '07/10/23, 22:01 - ',\n",
       " '07/10/23, 22:06 - ',\n",
       " '07/10/23, 22:07 - ',\n",
       " '07/10/23, 22:29 - ',\n",
       " '09/10/23, 22:23 - ',\n",
       " '09/10/23, 22:23 - ',\n",
       " '10/10/23, 17:48 - ',\n",
       " '12/10/23, 11:03 - ',\n",
       " '12/10/23, 11:03 - ',\n",
       " '03/11/23, 23:24 - ',\n",
       " '03/11/23, 23:31 - ',\n",
       " '04/11/23, 00:52 - ',\n",
       " '04/11/23, 01:05 - ',\n",
       " '04/11/23, 01:33 - ',\n",
       " '04/11/23, 01:33 - ',\n",
       " '04/11/23, 01:33 - ',\n",
       " '04/11/23, 01:39 - ',\n",
       " '04/11/23, 09:58 - ',\n",
       " '04/11/23, 09:59 - ',\n",
       " '27/11/23, 21:55 - ',\n",
       " '27/11/23, 21:55 - ',\n",
       " '27/11/23, 21:55 - ',\n",
       " '27/11/23, 21:55 - ',\n",
       " '27/11/23, 21:56 - ',\n",
       " '28/11/23, 00:30 - ',\n",
       " '28/11/23, 00:30 - ',\n",
       " '28/11/23, 00:31 - ',\n",
       " '28/11/23, 00:31 - ',\n",
       " '28/11/23, 00:31 - ',\n",
       " '28/11/23, 00:31 - ',\n",
       " '30/11/23, 18:14 - ',\n",
       " '30/11/23, 18:14 - ',\n",
       " '30/11/23, 19:03 - ',\n",
       " '03/12/23, 16:40 - ',\n",
       " '03/12/23, 16:40 - ',\n",
       " '19/09/23, 12:56 - ',\n",
       " '12/09/23, 15:12 - ',\n",
       " '22/09/23, 16:13 - ',\n",
       " '23/09/23, 10:57 - ',\n",
       " '28/09/23, 14:42 - ',\n",
       " '29/09/23, 13:28 - ',\n",
       " '30/09/23, 17:36 - ',\n",
       " '02/10/23, 12:20 - ',\n",
       " '11/10/23, 13:26 - ',\n",
       " '12/10/23, 13:13 - ',\n",
       " '15/10/23, 14:44 - ',\n",
       " '16/10/23, 08:35 - ',\n",
       " '31/10/23, 15:59 - ',\n",
       " '19/09/23, 12:56 - ',\n",
       " '11/09/23, 16:06 - ',\n",
       " '21/09/23, 17:21 - ']"
      ]
     },
     "execution_count": 35,
     "metadata": {},
     "output_type": "execute_result"
    }
   ],
   "source": [
    "dates=re.findall(pattern,data)\n",
    "dates"
   ]
  },
  {
   "cell_type": "code",
   "execution_count": 36,
   "id": "b23102e8",
   "metadata": {},
   "outputs": [],
   "source": [
    "df = pd.DataFrame({'user_message': messages, 'message_date': dates})\n",
    "    # convert message_date type\n",
    "df['message_date'] = pd.to_datetime(df['message_date'], format='%y/%m/%d, %H:%M - ')\n",
    "\n",
    "df.rename(columns={'message_date': 'date'}, inplace=True)\n"
   ]
  },
  {
   "cell_type": "code",
   "execution_count": 37,
   "id": "671c8cef",
   "metadata": {},
   "outputs": [
    {
     "data": {
      "text/html": [
       "<div>\n",
       "<style scoped>\n",
       "    .dataframe tbody tr th:only-of-type {\n",
       "        vertical-align: middle;\n",
       "    }\n",
       "\n",
       "    .dataframe tbody tr th {\n",
       "        vertical-align: top;\n",
       "    }\n",
       "\n",
       "    .dataframe thead th {\n",
       "        text-align: right;\n",
       "    }\n",
       "</style>\n",
       "<table border=\"1\" class=\"dataframe\">\n",
       "  <thead>\n",
       "    <tr style=\"text-align: right;\">\n",
       "      <th></th>\n",
       "      <th>user_message</th>\n",
       "      <th>date</th>\n",
       "    </tr>\n",
       "  </thead>\n",
       "  <tbody>\n",
       "    <tr>\n",
       "      <th>0</th>\n",
       "      <td>Messages and calls are end-to-end encrypted. N...</td>\n",
       "      <td>2018-10-23 18:30:00</td>\n",
       "    </tr>\n",
       "    <tr>\n",
       "      <th>1</th>\n",
       "      <td>Muniprasad Reddy: Hi\\n</td>\n",
       "      <td>2023-10-23 12:03:00</td>\n",
       "    </tr>\n",
       "    <tr>\n",
       "      <th>2</th>\n",
       "      <td>Muniprasad Reddy: Bro\\n</td>\n",
       "      <td>2023-10-23 12:03:00</td>\n",
       "    </tr>\n",
       "    <tr>\n",
       "      <th>3</th>\n",
       "      <td>Muniprasad Reddy: muni\\n</td>\n",
       "      <td>2023-10-23 12:03:00</td>\n",
       "    </tr>\n",
       "    <tr>\n",
       "      <th>4</th>\n",
       "      <td>Muniprasad Reddy: What about the part-time job\\n</td>\n",
       "      <td>2023-10-23 12:04:00</td>\n",
       "    </tr>\n",
       "  </tbody>\n",
       "</table>\n",
       "</div>"
      ],
      "text/plain": [
       "                                        user_message                date\n",
       "0  Messages and calls are end-to-end encrypted. N... 2018-10-23 18:30:00\n",
       "1                             Muniprasad Reddy: Hi\\n 2023-10-23 12:03:00\n",
       "2                            Muniprasad Reddy: Bro\\n 2023-10-23 12:03:00\n",
       "3                           Muniprasad Reddy: muni\\n 2023-10-23 12:03:00\n",
       "4   Muniprasad Reddy: What about the part-time job\\n 2023-10-23 12:04:00"
      ]
     },
     "execution_count": 37,
     "metadata": {},
     "output_type": "execute_result"
    }
   ],
   "source": [
    "df.head()"
   ]
  },
  {
   "cell_type": "code",
   "execution_count": 38,
   "id": "3f2c6aa4",
   "metadata": {},
   "outputs": [
    {
     "data": {
      "text/plain": [
       "(213, 2)"
      ]
     },
     "execution_count": 38,
     "metadata": {},
     "output_type": "execute_result"
    }
   ],
   "source": [
    "df.shape"
   ]
  },
  {
   "cell_type": "code",
   "execution_count": 39,
   "id": "1aa727d0",
   "metadata": {},
   "outputs": [],
   "source": [
    "    users = []\n",
    "    messages = []\n",
    "    for message in df['user_message']:\n",
    "        entry = re.split('([\\w\\W]+?):\\s', message)\n",
    "        if entry[1:]:  # user name\n",
    "            users.append(entry[1])\n",
    "            messages.append(\" \".join(entry[2:]))\n",
    "        else:\n",
    "            users.append('group_notification')\n",
    "            messages.append(entry[0])\n",
    "\n",
    "    df['user'] = users\n",
    "    df['message'] = messages\n",
    "    df.drop(columns=['user_message'], inplace=True)\n"
   ]
  },
  {
   "cell_type": "code",
   "execution_count": 40,
   "id": "4e5b3741",
   "metadata": {},
   "outputs": [
    {
     "data": {
      "text/html": [
       "<div>\n",
       "<style scoped>\n",
       "    .dataframe tbody tr th:only-of-type {\n",
       "        vertical-align: middle;\n",
       "    }\n",
       "\n",
       "    .dataframe tbody tr th {\n",
       "        vertical-align: top;\n",
       "    }\n",
       "\n",
       "    .dataframe thead th {\n",
       "        text-align: right;\n",
       "    }\n",
       "</style>\n",
       "<table border=\"1\" class=\"dataframe\">\n",
       "  <thead>\n",
       "    <tr style=\"text-align: right;\">\n",
       "      <th></th>\n",
       "      <th>date</th>\n",
       "      <th>user</th>\n",
       "      <th>message</th>\n",
       "    </tr>\n",
       "  </thead>\n",
       "  <tbody>\n",
       "    <tr>\n",
       "      <th>0</th>\n",
       "      <td>2018-10-23 18:30:00</td>\n",
       "      <td>group_notification</td>\n",
       "      <td>Messages and calls are end-to-end encrypted. N...</td>\n",
       "    </tr>\n",
       "    <tr>\n",
       "      <th>1</th>\n",
       "      <td>2023-10-23 12:03:00</td>\n",
       "      <td>Muniprasad Reddy</td>\n",
       "      <td>Hi\\n</td>\n",
       "    </tr>\n",
       "    <tr>\n",
       "      <th>2</th>\n",
       "      <td>2023-10-23 12:03:00</td>\n",
       "      <td>Muniprasad Reddy</td>\n",
       "      <td>Bro\\n</td>\n",
       "    </tr>\n",
       "    <tr>\n",
       "      <th>3</th>\n",
       "      <td>2023-10-23 12:03:00</td>\n",
       "      <td>Muniprasad Reddy</td>\n",
       "      <td>muni\\n</td>\n",
       "    </tr>\n",
       "    <tr>\n",
       "      <th>4</th>\n",
       "      <td>2023-10-23 12:04:00</td>\n",
       "      <td>Muniprasad Reddy</td>\n",
       "      <td>What about the part-time job\\n</td>\n",
       "    </tr>\n",
       "  </tbody>\n",
       "</table>\n",
       "</div>"
      ],
      "text/plain": [
       "                 date                user  \\\n",
       "0 2018-10-23 18:30:00  group_notification   \n",
       "1 2023-10-23 12:03:00    Muniprasad Reddy   \n",
       "2 2023-10-23 12:03:00    Muniprasad Reddy   \n",
       "3 2023-10-23 12:03:00    Muniprasad Reddy   \n",
       "4 2023-10-23 12:04:00    Muniprasad Reddy   \n",
       "\n",
       "                                             message  \n",
       "0  Messages and calls are end-to-end encrypted. N...  \n",
       "1                                               Hi\\n  \n",
       "2                                              Bro\\n  \n",
       "3                                             muni\\n  \n",
       "4                     What about the part-time job\\n  "
      ]
     },
     "execution_count": 40,
     "metadata": {},
     "output_type": "execute_result"
    }
   ],
   "source": [
    "df.head()"
   ]
  },
  {
   "cell_type": "code",
   "execution_count": 41,
   "id": "28ccf7e7",
   "metadata": {},
   "outputs": [],
   "source": [
    "df[\"Year\"]=df['date'].dt.year"
   ]
  },
  {
   "cell_type": "code",
   "execution_count": 42,
   "id": "3475b32a",
   "metadata": {},
   "outputs": [
    {
     "data": {
      "text/html": [
       "<div>\n",
       "<style scoped>\n",
       "    .dataframe tbody tr th:only-of-type {\n",
       "        vertical-align: middle;\n",
       "    }\n",
       "\n",
       "    .dataframe tbody tr th {\n",
       "        vertical-align: top;\n",
       "    }\n",
       "\n",
       "    .dataframe thead th {\n",
       "        text-align: right;\n",
       "    }\n",
       "</style>\n",
       "<table border=\"1\" class=\"dataframe\">\n",
       "  <thead>\n",
       "    <tr style=\"text-align: right;\">\n",
       "      <th></th>\n",
       "      <th>date</th>\n",
       "      <th>user</th>\n",
       "      <th>message</th>\n",
       "      <th>Year</th>\n",
       "    </tr>\n",
       "  </thead>\n",
       "  <tbody>\n",
       "    <tr>\n",
       "      <th>0</th>\n",
       "      <td>2018-10-23 18:30:00</td>\n",
       "      <td>group_notification</td>\n",
       "      <td>Messages and calls are end-to-end encrypted. N...</td>\n",
       "      <td>2018</td>\n",
       "    </tr>\n",
       "    <tr>\n",
       "      <th>1</th>\n",
       "      <td>2023-10-23 12:03:00</td>\n",
       "      <td>Muniprasad Reddy</td>\n",
       "      <td>Hi\\n</td>\n",
       "      <td>2023</td>\n",
       "    </tr>\n",
       "    <tr>\n",
       "      <th>2</th>\n",
       "      <td>2023-10-23 12:03:00</td>\n",
       "      <td>Muniprasad Reddy</td>\n",
       "      <td>Bro\\n</td>\n",
       "      <td>2023</td>\n",
       "    </tr>\n",
       "    <tr>\n",
       "      <th>3</th>\n",
       "      <td>2023-10-23 12:03:00</td>\n",
       "      <td>Muniprasad Reddy</td>\n",
       "      <td>muni\\n</td>\n",
       "      <td>2023</td>\n",
       "    </tr>\n",
       "    <tr>\n",
       "      <th>4</th>\n",
       "      <td>2023-10-23 12:04:00</td>\n",
       "      <td>Muniprasad Reddy</td>\n",
       "      <td>What about the part-time job\\n</td>\n",
       "      <td>2023</td>\n",
       "    </tr>\n",
       "  </tbody>\n",
       "</table>\n",
       "</div>"
      ],
      "text/plain": [
       "                 date                user  \\\n",
       "0 2018-10-23 18:30:00  group_notification   \n",
       "1 2023-10-23 12:03:00    Muniprasad Reddy   \n",
       "2 2023-10-23 12:03:00    Muniprasad Reddy   \n",
       "3 2023-10-23 12:03:00    Muniprasad Reddy   \n",
       "4 2023-10-23 12:04:00    Muniprasad Reddy   \n",
       "\n",
       "                                             message  Year  \n",
       "0  Messages and calls are end-to-end encrypted. N...  2018  \n",
       "1                                               Hi\\n  2023  \n",
       "2                                              Bro\\n  2023  \n",
       "3                                             muni\\n  2023  \n",
       "4                     What about the part-time job\\n  2023  "
      ]
     },
     "execution_count": 42,
     "metadata": {},
     "output_type": "execute_result"
    }
   ],
   "source": [
    "df.head()"
   ]
  },
  {
   "cell_type": "code",
   "execution_count": 43,
   "id": "bb8ae190",
   "metadata": {},
   "outputs": [
    {
     "data": {
      "text/plain": [
       "0        October\n",
       "1        October\n",
       "2        October\n",
       "3        October\n",
       "4        October\n",
       "         ...    \n",
       "208      October\n",
       "209      October\n",
       "210    September\n",
       "211    September\n",
       "212    September\n",
       "Name: date, Length: 213, dtype: object"
      ]
     },
     "execution_count": 43,
     "metadata": {},
     "output_type": "execute_result"
    }
   ],
   "source": [
    " df[\"date\"].dt.month_name()"
   ]
  },
  {
   "cell_type": "code",
   "execution_count": null,
   "id": "a5012b2e",
   "metadata": {},
   "outputs": [],
   "source": [
    " "
   ]
  },
  {
   "cell_type": "code",
   "execution_count": null,
   "id": "d273871c",
   "metadata": {},
   "outputs": [],
   "source": []
  }
 ],
 "metadata": {
  "kernelspec": {
   "display_name": "Python 3 (ipykernel)",
   "language": "python",
   "name": "python3"
  },
  "language_info": {
   "codemirror_mode": {
    "name": "ipython",
    "version": 3
   },
   "file_extension": ".py",
   "mimetype": "text/x-python",
   "name": "python",
   "nbconvert_exporter": "python",
   "pygments_lexer": "ipython3",
   "version": "3.11.4"
  }
 },
 "nbformat": 4,
 "nbformat_minor": 5
}
