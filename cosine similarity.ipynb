{
 "cells": [
  {
   "cell_type": "code",
   "execution_count": 2,
   "id": "cbc0c1d3",
   "metadata": {},
   "outputs": [],
   "source": [
    "from sklearn.metrics.pairwise import cosine_similarity,cosine_distances"
   ]
  },
  {
   "cell_type": "code",
   "execution_count": 4,
   "id": "cfb6bad4",
   "metadata": {},
   "outputs": [
    {
     "data": {
      "text/plain": [
       "array([[1.]])"
      ]
     },
     "execution_count": 4,
     "metadata": {},
     "output_type": "execute_result"
    }
   ],
   "source": [
    "cosine_similarity([[3,1]],[[6,2]])"
   ]
  },
  {
   "cell_type": "code",
   "execution_count": 5,
   "id": "d08040eb",
   "metadata": {},
   "outputs": [
    {
     "data": {
      "text/plain": [
       "array([[1.11022302e-16]])"
      ]
     },
     "execution_count": 5,
     "metadata": {},
     "output_type": "execute_result"
    }
   ],
   "source": [
    "cosine_distances([[3,1]],[[6,2]])"
   ]
  },
  {
   "cell_type": "code",
   "execution_count": 6,
   "id": "4eddb4b5",
   "metadata": {},
   "outputs": [
    {
     "data": {
      "text/plain": [
       "array([[0.96476382]])"
      ]
     },
     "execution_count": 6,
     "metadata": {},
     "output_type": "execute_result"
    }
   ],
   "source": [
    "cosine_similarity([[3,1]],[[3,2]])"
   ]
  },
  {
   "cell_type": "code",
   "execution_count": null,
   "id": "a20ddd1e",
   "metadata": {},
   "outputs": [],
   "source": [
    "doc1 = \"\"\"\n",
    "iphone sales contributed to 70% of revenue. iphone demand is increasing by 20% yoy. \n",
    "the main competitor phone galaxy recorded 5% less growth compared to iphone\"\n",
    "\"\"\"\n",
    "\n",
    "doc2 = \"\"\"\n",
    "The upside pressure on volumes for the iPhone 12 series, historical outperformance \n",
    "in the July-September time period heading into launch event, and further catalysts in relation\n",
    "to outperformance for iPhone 13 volumes relative to lowered investor expectations implies a \n",
    "very attractive set up for the shares.\n",
    "\"\"\"\n",
    "\n",
    "doc3 = \"\"\"\n",
    "samsung's flagship product galaxy is able to penetrate more into asian markets compared to\n",
    "iphone. galaxy is redesigned with new look that appeals young demographics. 60% of samsung revenues\n",
    "are coming from galaxy phone sales\n",
    "\"\"\"\n",
    "\n",
    "doc4 = \"\"\"\n",
    "Samsung Electronics unveils its Galaxy S21 flagship, with modest spec improvements \n",
    "and a significantly lower price point. Galaxy S21 price is lower by ~20% (much like the iPhone 12A), \n",
    "which highlights Samsung's focus on boosting shipments and regaining market share.\n",
    "\"\"\"\n",
    "\n"
   ]
  },
  {
   "cell_type": "code",
   "execution_count": 7,
   "id": "d7d1ee5f",
   "metadata": {},
   "outputs": [],
   "source": [
    "import pandas as pd"
   ]
  },
  {
   "cell_type": "code",
   "execution_count": 9,
   "id": "c6169f2d",
   "metadata": {},
   "outputs": [],
   "source": [
    "data = pd.DataFrame([\n",
    "        {'iPhone': 3,'galaxy': 1},\n",
    "        {'iPhone': 2,'galaxy': 0},\n",
    "        {'iPhone': 1,'galaxy': 3},\n",
    "        {'iPhone': 1,'galaxy': 2},\n",
    "    ],\n",
    "    index=[\n",
    "        \"doc1\",\n",
    "        \"doc2\",\n",
    "        \"doc3\",\n",
    "        \"doc4\"\n",
    "    ])"
   ]
  },
  {
   "cell_type": "code",
   "execution_count": 10,
   "id": "d96aa57f",
   "metadata": {},
   "outputs": [
    {
     "data": {
      "text/html": [
       "<div>\n",
       "<style scoped>\n",
       "    .dataframe tbody tr th:only-of-type {\n",
       "        vertical-align: middle;\n",
       "    }\n",
       "\n",
       "    .dataframe tbody tr th {\n",
       "        vertical-align: top;\n",
       "    }\n",
       "\n",
       "    .dataframe thead th {\n",
       "        text-align: right;\n",
       "    }\n",
       "</style>\n",
       "<table border=\"1\" class=\"dataframe\">\n",
       "  <thead>\n",
       "    <tr style=\"text-align: right;\">\n",
       "      <th></th>\n",
       "      <th>iPhone</th>\n",
       "      <th>galaxy</th>\n",
       "    </tr>\n",
       "  </thead>\n",
       "  <tbody>\n",
       "    <tr>\n",
       "      <th>doc1</th>\n",
       "      <td>3</td>\n",
       "      <td>1</td>\n",
       "    </tr>\n",
       "    <tr>\n",
       "      <th>doc2</th>\n",
       "      <td>2</td>\n",
       "      <td>0</td>\n",
       "    </tr>\n",
       "    <tr>\n",
       "      <th>doc3</th>\n",
       "      <td>1</td>\n",
       "      <td>3</td>\n",
       "    </tr>\n",
       "    <tr>\n",
       "      <th>doc4</th>\n",
       "      <td>1</td>\n",
       "      <td>2</td>\n",
       "    </tr>\n",
       "  </tbody>\n",
       "</table>\n",
       "</div>"
      ],
      "text/plain": [
       "      iPhone  galaxy\n",
       "doc1       3       1\n",
       "doc2       2       0\n",
       "doc3       1       3\n",
       "doc4       1       2"
      ]
     },
     "execution_count": 10,
     "metadata": {},
     "output_type": "execute_result"
    }
   ],
   "source": [
    "data"
   ]
  },
  {
   "cell_type": "code",
   "execution_count": 12,
   "id": "0b998855",
   "metadata": {},
   "outputs": [
    {
     "data": {
      "text/html": [
       "<div>\n",
       "<style scoped>\n",
       "    .dataframe tbody tr th:only-of-type {\n",
       "        vertical-align: middle;\n",
       "    }\n",
       "\n",
       "    .dataframe tbody tr th {\n",
       "        vertical-align: top;\n",
       "    }\n",
       "\n",
       "    .dataframe thead th {\n",
       "        text-align: right;\n",
       "    }\n",
       "</style>\n",
       "<table border=\"1\" class=\"dataframe\">\n",
       "  <thead>\n",
       "    <tr style=\"text-align: right;\">\n",
       "      <th></th>\n",
       "      <th>iPhone</th>\n",
       "      <th>galaxy</th>\n",
       "    </tr>\n",
       "  </thead>\n",
       "  <tbody>\n",
       "    <tr>\n",
       "      <th>doc1</th>\n",
       "      <td>3</td>\n",
       "      <td>1</td>\n",
       "    </tr>\n",
       "  </tbody>\n",
       "</table>\n",
       "</div>"
      ],
      "text/plain": [
       "      iPhone  galaxy\n",
       "doc1       3       1"
      ]
     },
     "execution_count": 12,
     "metadata": {},
     "output_type": "execute_result"
    }
   ],
   "source": [
    "data.loc[\"doc1\":\"doc1\"]"
   ]
  },
  {
   "cell_type": "code",
   "execution_count": 13,
   "id": "e53b24dd",
   "metadata": {},
   "outputs": [
    {
     "data": {
      "text/plain": [
       "array([[0.9486833]])"
      ]
     },
     "execution_count": 13,
     "metadata": {},
     "output_type": "execute_result"
    }
   ],
   "source": [
    "cosine_similarity(data.loc[\"doc1\":\"doc1\"],data.loc[\"doc2\":\"doc2\"])"
   ]
  },
  {
   "cell_type": "code",
   "execution_count": 14,
   "id": "2faa8a19",
   "metadata": {},
   "outputs": [
    {
     "data": {
      "text/plain": [
       "array([[0.6]])"
      ]
     },
     "execution_count": 14,
     "metadata": {},
     "output_type": "execute_result"
    }
   ],
   "source": [
    "cosine_similarity(data.loc[\"doc1\":\"doc1\"],data.loc[\"doc3\":\"doc3\"])"
   ]
  },
  {
   "cell_type": "code",
   "execution_count": 15,
   "id": "d7b12f33",
   "metadata": {},
   "outputs": [
    {
     "data": {
      "text/plain": [
       "array([[0.98994949]])"
      ]
     },
     "execution_count": 15,
     "metadata": {},
     "output_type": "execute_result"
    }
   ],
   "source": [
    "cosine_similarity(data.loc[\"doc3\":\"doc3\"],data.loc[\"doc4\":\"doc4\"])"
   ]
  },
  {
   "cell_type": "code",
   "execution_count": 16,
   "id": "eda6d8db",
   "metadata": {},
   "outputs": [
    {
     "data": {
      "text/plain": [
       "array([[0.0513167]])"
      ]
     },
     "execution_count": 16,
     "metadata": {},
     "output_type": "execute_result"
    }
   ],
   "source": [
    "cosine_distances(data.loc[\"doc1\":\"doc1\"],data.loc[\"doc2\":\"doc2\"])"
   ]
  },
  {
   "cell_type": "code",
   "execution_count": 17,
   "id": "24397821",
   "metadata": {},
   "outputs": [
    {
     "data": {
      "text/plain": [
       "array([[0.01005051]])"
      ]
     },
     "execution_count": 17,
     "metadata": {},
     "output_type": "execute_result"
    }
   ],
   "source": [
    "cosine_distances(data.loc[\"doc3\":\"doc3\"],data.loc[\"doc4\":\"doc4\"])"
   ]
  },
  {
   "cell_type": "code",
   "execution_count": 18,
   "id": "7c4806d2",
   "metadata": {},
   "outputs": [],
   "source": [
    "#### cosine_distances=1-cosine_similarity"
   ]
  },
  {
   "cell_type": "code",
   "execution_count": 20,
   "id": "e899e567",
   "metadata": {},
   "outputs": [
    {
     "data": {
      "text/plain": [
       "0.010050510000000012"
      ]
     },
     "execution_count": 20,
     "metadata": {},
     "output_type": "execute_result"
    }
   ],
   "source": [
    "1-0.98994949       ####cosine_distances=1-cosine_similarity(data.loc[\"doc3\":\"doc3\"],data.loc[\"doc4\":\"doc4\"])"
   ]
  },
  {
   "cell_type": "code",
   "execution_count": null,
   "id": "f6881d81",
   "metadata": {},
   "outputs": [],
   "source": []
  }
 ],
 "metadata": {
  "kernelspec": {
   "display_name": "Python 3 (ipykernel)",
   "language": "python",
   "name": "python3"
  },
  "language_info": {
   "codemirror_mode": {
    "name": "ipython",
    "version": 3
   },
   "file_extension": ".py",
   "mimetype": "text/x-python",
   "name": "python",
   "nbconvert_exporter": "python",
   "pygments_lexer": "ipython3",
   "version": "3.11.4"
  }
 },
 "nbformat": 4,
 "nbformat_minor": 5
}
